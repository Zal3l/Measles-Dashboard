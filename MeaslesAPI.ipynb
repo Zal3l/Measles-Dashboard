{
 "cells": [
  {
   "cell_type": "markdown",
   "id": "db19334d-16c9-48b0-a56e-1e3bd47d8fd6",
   "metadata": {},
   "source": [
    "/themes/{theme}/sub_themes/{sub_theme}/topics/{topic}/geography_types/{geography_type}/geographies/{geography}/metrics/{metric}\n",
    "\n",
    "https://api.ukhsa-dashboard.data.gov.uk/themes/infectious_disease/sub_themes/vaccine_preventable/topics/Measles/geography_types/UKHSA%20Region/geographies/London/metrics/measles_cases_casesByOnsetWeek"
   ]
  },
  {
   "cell_type": "markdown",
   "id": "5712c9ad-8fa2-4ad8-8180-df820b5203b1",
   "metadata": {},
   "source": [
    "Link to Metric:\n",
    "https://ukhsa-dashboard.data.gov.uk/metrics-documentation/influenza-healthcare-hospital-admission-rate-by-week?returnUrl=%2Fmetrics-documentation%3Fsearch%3D%26page%3D6\n",
    "\n",
    "Link to API:\n",
    "https://api.ukhsa-dashboard.data.gov.uk/themes/infectious_disease/sub_themes/vaccine_preventable/topics/Measles/geography_types/UKHSA%20Region/geographies/London/metrics/measles_cases_casesByOnsetWeek\n",
    "\n",
    "\n",
    "\n",
    "\n",
    "Influenza healthcare hospital admission rate by week\n",
    "\n",
    "4 UKHSA Super Regions:\n",
    "    compare by each region, showing each area having a different infection rate\n",
    "\n"
   ]
  },
  {
   "cell_type": "code",
   "execution_count": 3,
   "id": "bdc1c177-b2bb-452a-b462-01309b8a317d",
   "metadata": {},
   "outputs": [],
   "source": [
    "import requests                   #Fabrizio Code (from lectures)\n",
    "import time\n",
    "\n",
    "class APIwrapper:\n",
    "    # class variables shared among all instances\n",
    "    _access_point=\"https://api.ukhsa-dashboard.data.gov.uk\"\n",
    "    _last_access=0.0 # time of last api access\n",
    "    \n",
    "    def __init__(self, theme, sub_theme, topic, geography_type, geography, metric):\n",
    "        \"\"\" Init the APIwrapper object, constructing the endpoint from the structure\n",
    "        parameters \"\"\"\n",
    "        # build the path with all the required structure parameters. You do not need to edit this line,\n",
    "        # parameters will be replaced by the actual values when you instantiate an object of the class!\n",
    "        url_path=(f\"/themes/{theme}/sub_themes/{sub_theme}/topics/{topic}/geography_types/\" +\n",
    "                  f\"{geography_type}/geographies/{geography}/metrics/{metric}\")\n",
    "        # our starting API endpoint\n",
    "        self._start_url=APIwrapper._access_point+url_path\n",
    "        self._filters=None\n",
    "        self._page_size=-1\n",
    "        # will contain the number of items\n",
    "        self.count=None\n",
    "\n",
    "    def get_page(self, filters={}, page_size=5):\n",
    "        \"\"\" Access the API and download the next page of data. Sets the count\n",
    "        attribute to the total number of items available for this query. Changing\n",
    "        filters or page_size will cause get_page to restart from page 1. Rate\n",
    "        limited to three request per second. The page_size parameter sets the number\n",
    "        of data points in one response page (maximum 365); use the default value \n",
    "        for debugging your structure and filters. \"\"\"\n",
    "        # Check page size is within range\n",
    "        if page_size>365:\n",
    "            raise ValueError(\"Max supported page size is 365\")\n",
    "        # restart from first page if page or filters have changed\n",
    "        if filters!=self._filters or page_size!=self._page_size:\n",
    "            self._filters=filters\n",
    "            self._page_size=page_size\n",
    "            self._next_url=self._start_url\n",
    "        # signal the end of data condition\n",
    "        if self._next_url==None: \n",
    "            return [] # we already fetched the last page\n",
    "        # simple rate limiting to avoid bans\n",
    "        curr_time=time.time() # Unix time: number of seconds since the Epoch\n",
    "        deltat=curr_time-APIwrapper._last_access\n",
    "        if deltat<0.33: # max 3 requests/second\n",
    "            time.sleep(0.33-deltat)\n",
    "        APIwrapper._last_access=curr_time\n",
    "        # build parameter dictionary by removing all the None\n",
    "        # values from filters and adding page_size\n",
    "        parameters={x: y for x, y in filters.items() if y!=None}\n",
    "        parameters['page_size']=page_size\n",
    "        # the page parameter is already included in _next_url.\n",
    "        # This is the API access. Response is a dictionary with various keys.\n",
    "        # the .json() method decodes the response into Python object (dictionaries,\n",
    "        # lists; 'null' values are translated as None).\n",
    "        response = requests.get(self._next_url, params=parameters).json()\n",
    "        # update url so we'll fetch the next page\n",
    "        self._next_url=response['next']\n",
    "        self.count=response['count']\n",
    "        # data are in the nested 'results' list\n",
    "        return response['results'] \n",
    "\n",
    "    def get_all_pages(self, filters={}, page_size=365):\n",
    "        \"\"\" Access the API and download all available data pages of data. Sets the count\n",
    "        attribute to the total number of items available for this query. API access rate\n",
    "        limited to three request per second. The page_size parameter sets the number\n",
    "        of data points in one response page (maximum 365), and controls the trade-off\n",
    "        between time to load a page and number of pages; the default should work well \n",
    "        in most cases. The number of items returned should in any case be equal to \n",
    "        the count attribute. \"\"\"\n",
    "        data=[] # build up all data here\n",
    "        while True:\n",
    "            # use get_page to do the job, including the pacing\n",
    "            next_page=self.get_page(filters, page_size)\n",
    "            if next_page==[]:\n",
    "                break # we are done\n",
    "            data.extend(next_page)\n",
    "        return data"
   ]
  },
  {
   "cell_type": "code",
   "execution_count": 4,
   "id": "dab0f318-4c14-4e07-b390-f473dd0d249b",
   "metadata": {},
   "outputs": [],
   "source": [
    "structure={\"theme\": \"infectious_disease\", \n",
    "           \"sub_theme\": \"vaccine_preventable\",\n",
    "           \"topic\": \"Measles\",\n",
    "           \"geography_type\": \"UKHSA%20Region\",\n",
    "           \"metric\": \"measles_cases_casesByOnsetWeek\"}\n"
   ]
  },
  {
   "cell_type": "code",
   "execution_count": 6,
   "id": "a0c47810-28e8-420e-98c2-9911b137b11c",
   "metadata": {},
   "outputs": [],
   "source": [
    "import json\n",
    "\n",
    "structure[\"geography\"]= \"London\"    #\"North West\"\n",
    "api=APIwrapper(**structure)\n",
    "cases_LN=api.get_all_pages()\n",
    "\n",
    "with open(structure[\"geography\"]+'.json', \"wt\") as OUTF:\n",
    "    json.dump(cases_LN, OUTF)"
   ]
  },
  {
   "cell_type": "code",
   "execution_count": 7,
   "id": "e708769e-6ee3-4797-9ea4-280a64df28b9",
   "metadata": {},
   "outputs": [],
   "source": [
    "structure[\"geography\"]= \"East Midlands\"    #\"North West\"\n",
    "api=APIwrapper(**structure)\n",
    "cases_NW=api.get_all_pages()\n",
    "\n",
    "with open(structure[\"geography\"]+'.json', \"wt\") as OUTF:\n",
    "    json.dump(cases_NW, OUTF)"
   ]
  },
  {
   "cell_type": "code",
   "execution_count": 9,
   "id": "1987f2a8-6f63-4072-8046-55c58a4418f4",
   "metadata": {},
   "outputs": [],
   "source": [
    "import pandas as pd\n",
    "import matplotlib.pyplot as plt\n",
    "import matplotlib.dates as mdates\n",
    "import json\n",
    "\n",
    "# an iPython  \"magic\" that enables the embedding of matplotlib output\n",
    "%matplotlib inline\n",
    "# make figures larger\n",
    "plt.rcParams['figure.dpi'] = 100"
   ]
  },
  {
   "cell_type": "code",
   "execution_count": 10,
   "id": "ba3704d0-9f2a-40a5-abde-4aedfb0976d7",
   "metadata": {},
   "outputs": [],
   "source": [
    "with open(\"East Midlands.json\", \"rt\") as INFILE:\n",
    "    East_Midlands=json.load(INFILE)\n",
    "\n",
    "with open(\"London.json\", \"rt\") as INFILE:\n",
    "    London=json.load(INFILE)"
   ]
  },
  {
   "cell_type": "code",
   "execution_count": 48,
   "id": "e7621752-f735-4457-a970-46c14ea5b7df",
   "metadata": {},
   "outputs": [],
   "source": [
    "data={}\n",
    "for dataset in [East_Midlands, London]:\n",
    "    for entry in dataset:\n",
    "        date=entry['date']\n",
    "        geography=entry['geography']\n",
    "        value=entry['metric_value']\n",
    "        if date not in data:\n",
    "            data[date]={}\n",
    "        data[date][geography]=value"
   ]
  },
  {
   "cell_type": "code",
   "execution_count": 50,
   "id": "7b52e2f8-941d-460a-88aa-f00f528a2b70",
   "metadata": {},
   "outputs": [],
   "source": [
    "dates=list(data.keys())\n",
    "dates.sort()"
   ]
  },
  {
   "cell_type": "code",
   "execution_count": 51,
   "id": "e2b3e771-0f98-4e29-9f37-fadd7d3581d7",
   "metadata": {},
   "outputs": [],
   "source": [
    "def parse_date(datestring):\n",
    "    \"\"\" Convert a date string into a pandas datetime object \"\"\"\n",
    "    return pd.to_datetime(datestring, format=\"%Y-%m-%d\")"
   ]
  },
  {
   "cell_type": "code",
   "execution_count": 66,
   "id": "c4232f9b-c3f9-4905-8267-0b268f09793c",
   "metadata": {},
   "outputs": [],
   "source": [
    "startdate=parse_date(dates[0])\n",
    "enddate=parse_date(dates[-1])\n",
    "\n",
    "index=pd.date_range(startdate, enddate, freq='W-MON')\n",
    "timeseriesdf=pd.DataFrame(index=index, columns=['London', 'East Midlands'])"
   ]
  },
  {
   "cell_type": "code",
   "execution_count": 68,
   "id": "0eda1ba4-7ffd-41f7-ae6b-58f39094a26b",
   "metadata": {},
   "outputs": [],
   "source": [
    "# translate the columns to our metrics\n",
    "structures ={'London': 'London',\n",
    "          'East Midlands': 'East Midlands'}\n",
    "\n",
    "for date, entry in data.items(): # each entry is a dictionary with cases, admissions and deaths\n",
    "    pd_date=parse_date(date) # convert to Pandas format\n",
    "    for column in ['London', 'East Midlands']: \n",
    "        location=structures[column]\n",
    "        # do not assume all values are there for every date - if a value is not available, insert a 0.0\n",
    "        value= entry.get(location, 0.0)\n",
    "        # this is the way you access a specific location in the dataframe - use .loc\n",
    "        # and put index,column in a single set of [ ]\n",
    "        timeseriesdf.loc[date, column]=value\n",
    "            \n",
    "# fill in any remaining \"holes\" due to missing dates\n",
    "timeseriesdf.fillna(0.0, inplace=True)"
   ]
  },
  {
   "cell_type": "code",
   "execution_count": 74,
   "id": "4fe0063b-cb3d-4264-a81f-88bc931305d5",
   "metadata": {},
   "outputs": [
    {
     "data": {
      "image/png": "[encoded data removed]",
      "text/plain": [
       "<Figure size 640x480 with 1 Axes>"
      ]
     },
     "metadata": {},
     "output_type": "display_data"
    }
   ],
   "source": [
    "ax=timeseriesdf.plot()\n",
    "ax.set_title('Measles innit');"
   ]
  },
  {
   "cell_type": "code",
   "execution_count": 65,
   "id": "5aee7de7-d96e-42b9-963c-9f4311170255",
   "metadata": {},
   "outputs": [],
   "source": [
    "timeseriesdf.to_pickle(\"timeseriesdf.pkl\")"
   ]
  },
  {
   "cell_type": "code",
   "execution_count": null,
   "id": "9310ee55-1b3a-454b-a7cf-1191569eede6",
   "metadata": {},
   "outputs": [],
   "source": []
  }
 ],
 "metadata": {
  "kernelspec": {
   "display_name": "Python 3 (ipykernel)",
   "language": "python",
   "name": "python3"
  },
  "language_info": {
   "codemirror_mode": {
    "name": "ipython",
    "version": 3
   },
   "file_extension": ".py",
   "mimetype": "text/x-python",
   "name": "python",
   "nbconvert_exporter": "python",
   "pygments_lexer": "ipython3",
   "version": "3.11.9"
  }
 },
 "nbformat": 4,
 "nbformat_minor": 5
}
